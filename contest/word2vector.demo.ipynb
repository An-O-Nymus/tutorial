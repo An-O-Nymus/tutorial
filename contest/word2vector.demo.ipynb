{
 "cells": [
  {
   "cell_type": "code",
   "execution_count": 17,
   "metadata": {},
   "outputs": [
    {
     "name": "stderr",
     "output_type": "stream",
     "text": [
      "2018-09-16 11:30:11,916 : WARNING : consider setting layer size to a multiple of 4 for greater performance\n",
      "2018-09-16 11:30:11,916 : INFO : collecting all words and their counts\n",
      "2018-09-16 11:30:11,917 : INFO : PROGRESS: at sentence #0, processed 0 words, keeping 0 word types\n",
      "2018-09-16 11:30:11,918 : INFO : collected 8 word types from a corpus of 10 raw words and 2 sentences\n",
      "2018-09-16 11:30:11,918 : INFO : Loading a fresh vocabulary\n",
      "2018-09-16 11:30:11,919 : INFO : min_count=1 retains 8 unique words (100% of original 8, drops 0)\n",
      "2018-09-16 11:30:11,920 : INFO : min_count=1 leaves 10 word corpus (100% of original 10, drops 0)\n",
      "2018-09-16 11:30:11,921 : INFO : deleting the raw counts dictionary of 8 items\n",
      "2018-09-16 11:30:11,922 : INFO : sample=0.001 downsamples 8 most-common words\n",
      "2018-09-16 11:30:11,922 : INFO : downsampling leaves estimated 0 word corpus (9.6% of prior 10)\n",
      "2018-09-16 11:30:11,923 : INFO : estimated required memory for 8 words and 5 dimensions: 4320 bytes\n",
      "2018-09-16 11:30:11,923 : INFO : resetting layer weights\n",
      "2018-09-16 11:30:11,924 : INFO : training model with 4 workers on 8 vocabulary and 5 features, using sg=0 hs=0 sample=0.001 negative=5 window=3\n",
      "2018-09-16 11:30:11,927 : INFO : worker thread finished; awaiting finish of 3 more threads\n",
      "2018-09-16 11:30:11,928 : INFO : worker thread finished; awaiting finish of 2 more threads\n",
      "2018-09-16 11:30:11,928 : INFO : worker thread finished; awaiting finish of 1 more threads\n",
      "2018-09-16 11:30:11,929 : INFO : worker thread finished; awaiting finish of 0 more threads\n",
      "2018-09-16 11:30:11,929 : INFO : EPOCH - 1 : training on 10 raw words (0 effective words) took 0.0s, 0 effective words/s\n",
      "2018-09-16 11:30:11,932 : INFO : worker thread finished; awaiting finish of 3 more threads\n",
      "2018-09-16 11:30:11,932 : INFO : worker thread finished; awaiting finish of 2 more threads\n",
      "2018-09-16 11:30:11,933 : INFO : worker thread finished; awaiting finish of 1 more threads\n",
      "2018-09-16 11:30:11,933 : INFO : worker thread finished; awaiting finish of 0 more threads\n",
      "2018-09-16 11:30:11,934 : INFO : EPOCH - 2 : training on 10 raw words (1 effective words) took 0.0s, 370 effective words/s\n",
      "2018-09-16 11:30:11,936 : INFO : worker thread finished; awaiting finish of 3 more threads\n",
      "2018-09-16 11:30:11,937 : INFO : worker thread finished; awaiting finish of 2 more threads\n",
      "2018-09-16 11:30:11,938 : INFO : worker thread finished; awaiting finish of 1 more threads\n",
      "2018-09-16 11:30:11,938 : INFO : worker thread finished; awaiting finish of 0 more threads\n",
      "2018-09-16 11:30:11,939 : INFO : EPOCH - 3 : training on 10 raw words (0 effective words) took 0.0s, 0 effective words/s\n",
      "2018-09-16 11:30:11,941 : INFO : worker thread finished; awaiting finish of 3 more threads\n",
      "2018-09-16 11:30:11,942 : INFO : worker thread finished; awaiting finish of 2 more threads\n",
      "2018-09-16 11:30:11,942 : INFO : worker thread finished; awaiting finish of 1 more threads\n",
      "2018-09-16 11:30:11,943 : INFO : worker thread finished; awaiting finish of 0 more threads\n",
      "2018-09-16 11:30:11,943 : INFO : EPOCH - 4 : training on 10 raw words (3 effective words) took 0.0s, 1034 effective words/s\n",
      "2018-09-16 11:30:11,946 : INFO : worker thread finished; awaiting finish of 3 more threads\n",
      "2018-09-16 11:30:11,946 : INFO : worker thread finished; awaiting finish of 2 more threads\n",
      "2018-09-16 11:30:11,947 : INFO : worker thread finished; awaiting finish of 1 more threads\n",
      "2018-09-16 11:30:11,948 : INFO : worker thread finished; awaiting finish of 0 more threads\n",
      "2018-09-16 11:30:11,948 : INFO : EPOCH - 5 : training on 10 raw words (1 effective words) took 0.0s, 383 effective words/s\n",
      "2018-09-16 11:30:11,948 : INFO : training on a 50 raw words (5 effective words) took 0.0s, 215 effective words/s\n",
      "2018-09-16 11:30:11,949 : WARNING : under 10 jobs per worker: consider setting a smaller `batch_words' for smoother alpha decay\n",
      "2018-09-16 11:30:11,950 : INFO : saving Word2Vec object under word2vec.model, separately None\n",
      "2018-09-16 11:30:11,950 : INFO : not storing attribute vectors_norm\n",
      "2018-09-16 11:30:11,950 : INFO : not storing attribute cum_table\n",
      "2018-09-16 11:30:11,952 : INFO : saved word2vec.model\n"
     ]
    },
    {
     "data": {
      "text/plain": [
       "array([ 0.00721423, -0.08338975,  0.00132262,  0.04343875,  0.06784602],\n",
       "      dtype=float32)"
      ]
     },
     "execution_count": 17,
     "metadata": {},
     "output_type": "execute_result"
    }
   ],
   "source": [
    ">>> from gensim.test.utils import get_tmpfile\n",
    ">>> from gensim.models import Word2Vec\n",
    ">>>\n",
    ">>> path = get_tmpfile(\"word2vec.model\")\n",
    ">>>\n",
    ">>> model = Word2Vec([['我','爱','北京','天安门','我','喜欢','人工智能'],\n",
    "                      ['北京','是','首都']], size=5, window=3, min_count=1, workers=4)\n",
    ">>> model.save(\"word2vec.model\")\n",
    ">>> model.wv['我']"
   ]
  },
  {
   "cell_type": "code",
   "execution_count": 15,
   "metadata": {},
   "outputs": [
    {
     "data": {
      "text/plain": [
       "[['human', 'interface', 'computer'],\n",
       " ['survey', 'user', 'computer', 'system', 'response', 'time'],\n",
       " ['eps', 'user', 'interface', 'system'],\n",
       " ['system', 'human', 'system', 'eps'],\n",
       " ['user', 'response', 'time'],\n",
       " ['trees'],\n",
       " ['graph', 'trees'],\n",
       " ['graph', 'minors', 'trees'],\n",
       " ['graph', 'minors', 'survey']]"
      ]
     },
     "execution_count": 15,
     "metadata": {},
     "output_type": "execute_result"
    }
   ],
   "source": [
    "common_texts"
   ]
  },
  {
   "cell_type": "code",
   "execution_count": 16,
   "metadata": {},
   "outputs": [
    {
     "data": {
      "text/plain": [
       "array([ 0.00721423, -0.08338975,  0.00132262,  0.04343875,  0.06784602],\n",
       "      dtype=float32)"
      ]
     },
     "execution_count": 16,
     "metadata": {},
     "output_type": "execute_result"
    }
   ],
   "source": [
    "model.wv['我']"
   ]
  },
  {
   "cell_type": "code",
   "execution_count": null,
   "metadata": {},
   "outputs": [],
   "source": []
  }
 ],
 "metadata": {
  "kernelspec": {
   "display_name": "Python 2",
   "language": "python",
   "name": "python2"
  },
  "language_info": {
   "codemirror_mode": {
    "name": "ipython",
    "version": 3
   },
   "file_extension": ".py",
   "mimetype": "text/x-python",
   "name": "python",
   "nbconvert_exporter": "python",
   "pygments_lexer": "ipython3",
   "version": "3.6.4"
  }
 },
 "nbformat": 4,
 "nbformat_minor": 2
}
