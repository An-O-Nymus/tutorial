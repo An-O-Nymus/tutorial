{
 "cells": [
  {
   "cell_type": "code",
   "execution_count": 11,
   "metadata": {},
   "outputs": [
    {
     "data": {
      "text/plain": [
       "array([[1.        , 1.40546511, 1.40546511, 1.40546511, 0.        ,\n",
       "        0.        ],\n",
       "       [1.        , 0.        , 0.        , 0.        , 1.40546511,\n",
       "        1.40546511]])"
      ]
     },
     "execution_count": 11,
     "metadata": {},
     "output_type": "execute_result"
    }
   ],
   "source": [
    "#我 爱 北京  天安门\n",
    "#我 喜欢 人工智能   喜欢: 5 人工智能 6: \n",
    "# dict = 6 \n",
    "from sklearn.feature_extraction.text import TfidfTransformer \n",
    "transformer = TfidfTransformer(smooth_idf=True,norm=None)\n",
    "counts = [\n",
    "    [1,1,1,1,0,0],\n",
    "    [1,0,0,0,1,1]\n",
    "]\n",
    "tfidf = transformer.fit_transform(counts)\n",
    "tfidf.toarray()"
   ]
  },
  {
   "cell_type": "markdown",
   "metadata": {},
   "source": [
    "# tfidf 采用 l2 norm "
   ]
  },
  {
   "cell_type": "code",
   "execution_count": 12,
   "metadata": {},
   "outputs": [
    {
     "data": {
      "text/plain": [
       "array([[0.37997836, 0.53404633, 0.53404633, 0.53404633, 0.        ,\n",
       "        0.        ],\n",
       "       [0.44943642, 0.        , 0.        , 0.        , 0.6316672 ,\n",
       "        0.6316672 ]])"
      ]
     },
     "execution_count": 12,
     "metadata": {},
     "output_type": "execute_result"
    }
   ],
   "source": [
    "from sklearn.feature_extraction.text import TfidfTransformer \n",
    "transformer = TfidfTransformer(smooth_idf=True,norm='l2')\n",
    "counts = [\n",
    "    [1,1,1,1,0,0],\n",
    "    [1,0,0,0,1,1]\n",
    "]\n",
    "tfidf = transformer.fit_transform(counts)\n",
    "tfidf.toarray()"
   ]
  },
  {
   "cell_type": "code",
   "execution_count": null,
   "metadata": {},
   "outputs": [],
   "source": []
  }
 ],
 "metadata": {
  "kernelspec": {
   "display_name": "Python 2",
   "language": "python",
   "name": "python2"
  },
  "language_info": {
   "codemirror_mode": {
    "name": "ipython",
    "version": 3
   },
   "file_extension": ".py",
   "mimetype": "text/x-python",
   "name": "python",
   "nbconvert_exporter": "python",
   "pygments_lexer": "ipython3",
   "version": "3.6.4"
  }
 },
 "nbformat": 4,
 "nbformat_minor": 2
}
